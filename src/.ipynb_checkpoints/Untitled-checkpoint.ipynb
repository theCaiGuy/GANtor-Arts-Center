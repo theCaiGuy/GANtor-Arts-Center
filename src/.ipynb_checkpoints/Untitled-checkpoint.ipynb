{
 "cells": [
  {
   "cell_type": "code",
   "execution_count": 1,
   "metadata": {},
   "outputs": [],
   "source": [
    "from matplotlib import pyplot as plt"
   ]
  },
  {
   "cell_type": "code",
   "execution_count": null,
   "metadata": {},
   "outputs": [],
   "source": [
    "# Data for plotting\n",
    "D_loss = [1.858,1.075,1.198,1.383,1.305,1.551,1.151,1.124,1.358,1.267,1.164,1.33,1.248,1.239,1.615,1.263,1.344,1.287,1.172,1.479,1.576,1.53,1.186,1.358,\n",
    "          ,1.441,1.3,1.295,1.314,1.773,1.464,1.404]\n",
    "G_loss = [38.774,3.134,3.354,1.718,2.408,2.963,2.305,3.098,3.561,2.225,2.373,2.091,2.419,2.638,3.71,3.317,1.782,1.766,3.941,1.544,2.4,1.943,2.774,\n",
    "          2.059,1.563,2.183, 1.879,2.691,2.508,1.681,4.275]\n",
    "\n",
    "fig, ax = plt.subplots()\n",
    "ax.plot(t, s)\n",
    "\n",
    "ax.set(xlabel='time (s)', ylabel='voltage (mV)',\n",
    "       title='About as simple as it gets, folks')\n",
    "ax.grid()\n",
    "\n",
    "fig.savefig(\"test.png\")\n",
    "plt.show()"
   ]
  }
 ],
 "metadata": {
  "kernelspec": {
   "display_name": "Python 3",
   "language": "python",
   "name": "python3"
  },
  "language_info": {
   "codemirror_mode": {
    "name": "ipython",
    "version": 3
   },
   "file_extension": ".py",
   "mimetype": "text/x-python",
   "name": "python",
   "nbconvert_exporter": "python",
   "pygments_lexer": "ipython3",
   "version": "3.7.1"
  }
 },
 "nbformat": 4,
 "nbformat_minor": 2
}
