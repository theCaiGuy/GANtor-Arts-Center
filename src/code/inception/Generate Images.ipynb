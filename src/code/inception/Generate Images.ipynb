{
 "cells": [
  {
   "cell_type": "code",
   "execution_count": 1,
   "metadata": {},
   "outputs": [],
   "source": [
    "from __future__ import print_function\n",
    "from six.moves import range\n",
    "from PIL import Image\n",
    "\n",
    "import sys\n",
    "# dir_path = '~/GANtor-Arts-Center/src/code/main.py'\n",
    "# sys.path.append(dir_path)\n",
    "sys.path.append('../')\n",
    "\n",
    "import torch.backends.cudnn as cudnn\n",
    "import torch\n",
    "import torch.nn as nn\n",
    "from torch.autograd import Variable\n",
    "import torch.optim as optim\n",
    "import os\n",
    "import time\n",
    "\n",
    "import numpy as np\n",
    "import torchfile\n",
    "\n",
    "from miscc.config import cfg, cfg_from_file\n",
    "from miscc.utils import mkdir_p\n",
    "from miscc.utils import weights_init\n",
    "from miscc.utils import save_img_results, save_model\n",
    "from miscc.utils import KL_loss\n",
    "from miscc.utils import compute_discriminator_loss, compute_generator_loss\n",
    "\n",
    "from tensorboard import summary\n",
    "from tensorboardX import FileWriter\n",
    "\n",
    "import torchvision.utils as vutils\n"
   ]
  },
  {
   "cell_type": "code",
   "execution_count": 2,
   "metadata": {},
   "outputs": [
    {
     "name": "stdout",
     "output_type": "stream",
     "text": [
      "True\n"
     ]
    }
   ],
   "source": [
    "device = torch.device(\"cuda:0\" if torch.cuda.is_available() else \"cpu\")\n",
    "device = torch.device(0)\n",
    "print(torch.cuda.is_available())"
   ]
  },
  {
   "cell_type": "code",
   "execution_count": null,
   "metadata": {},
   "outputs": [],
   "source": [
    "from model import STAGE1_G, STAGE2_G, STAGE2_D\n",
    "\n",
    "\n",
    "stage = 1\n",
    "category = \"style\"\n",
    "image_size = 64 if stage == 1 else 256\n",
    "image_dir = './baseline_generated/{}{}/'.format(category, image_size)\n",
    "\n",
    "style_1 = '../../../results/wikiart_stageI_2019_05_14_23_03_43/Model/netG_epoch_60.pth'\n",
    "style_2 = '../../../results/wikiart_stageII_2019_05_15_03_54_54/Model/netG_epoch_45.pth'\n",
    "\n",
    "genre_1 = \"../../saved_models/stage1_genre/netG_epoch_70.pth\"\n",
    "genre_2 = \"\"\n",
    "\n",
    "config_file = '../cfg/wikiart_s2_style.yml' if category == \"style\" else '../cfg/wikiart_s2.yml'\n",
    "cfg_from_file(config_file)\n",
    "\n",
    "Stage1_G = STAGE1_G()\n",
    "\n",
    "stage_1_file = genre_1 if category == \"genre\" else style_1\n",
    "stage_2_file = genre_2 if category == \"genre\" else style_2\n",
    "\n",
    "if stage == 1:\n",
    "    netG = Stage1_G\n",
    "    state_dict = torch.load(stage_1_file,map_location=lambda storage, loc: storage)\n",
    "    netG.load_state_dict(state_dict)\n",
    "    print('Load from: ', stage_1_file)\n",
    "    \n",
    "elif stage == 2:\n",
    "    netG = STAGE2_G(Stage1_G)\n",
    "    state_dict = torch.load(stage_1_file,map_location=lambda storage, loc: storage)\n",
    "    netG.STAGE1_G.load_state_dict(state_dict)\n",
    "    print('Load from: ', stage_1_file)\n",
    "    state_dict = torch.load(stage_2_file, map_location=lambda storage, loc: storage)\n",
    "    netG.load_state_dict(state_dict)\n",
    "    print('Load from: ', stage_2_file)\n",
    "\n",
    "else:\n",
    "    raise Exception (\"Stage unspecified!\")\n",
    "    \n",
    "netG.eval()\n",
    "\n",
    "if cfg.CUDA:\n",
    "    netG.cuda()\n",
    "\n",
    "print(netG)\n"
   ]
  },
  {
   "cell_type": "code",
   "execution_count": null,
   "metadata": {},
   "outputs": [],
   "source": [
    "nz = 100\n",
    "batch_size = 16\n",
    "embedding_size = 27 if category == \"style\" else 10\n",
    "num_iters = 100 if category == \"style\" else 300 #43.2k images for style, 48k for genre\n",
    "\n",
    "for i in range(num_iters):\n",
    "    print (\"Iter num %i\"%(i))\n",
    "    for class_idx in range(embedding_size):\n",
    "        noise = Variable(torch.FloatTensor(batch_size, nz))\n",
    "        with torch.no_grad():\n",
    "                    fixed_noise = \\\n",
    "                        Variable(torch.FloatTensor(batch_size, nz).normal_(0, 1))\n",
    "        noise, fixed_noise = noise.cuda(), fixed_noise.cuda()\n",
    "\n",
    "        noise.data.normal_(0, 1)\n",
    "        text_embeddings = torch.zeros((batch_size, embedding_size)).cuda()\n",
    "        text_embeddings[:, class_idx] = 1\n",
    "\n",
    "#         inputs = (text_embeddings, noise)\n",
    "\n",
    "        lr_fake, fake = netG(text_embeddings, noise)\n",
    "\n",
    "        for im_idx, im in enumerate(fake.data):\n",
    "            \n",
    "            vutils.save_image(\n",
    "                        im, '%s%i/%i_%i.png' %\n",
    "                        (image_dir, class_idx, i, im_idx), normalize=True)"
   ]
  },
  {
   "cell_type": "code",
   "execution_count": null,
   "metadata": {},
   "outputs": [],
   "source": []
  }
 ],
 "metadata": {
  "kernelspec": {
   "display_name": "Python 3",
   "language": "python",
   "name": "python3"
  },
  "language_info": {
   "codemirror_mode": {
    "name": "ipython",
    "version": 3
   },
   "file_extension": ".py",
   "mimetype": "text/x-python",
   "name": "python",
   "nbconvert_exporter": "python",
   "pygments_lexer": "ipython3",
   "version": "3.7.1"
  }
 },
 "nbformat": 4,
 "nbformat_minor": 2
}
