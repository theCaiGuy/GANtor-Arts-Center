{
 "cells": [
  {
   "cell_type": "code",
   "execution_count": 1,
   "metadata": {},
   "outputs": [],
   "source": [
    "import os\n",
    "import pathlib\n",
    "from argparse import ArgumentParser, ArgumentDefaultsHelpFormatter\n",
    "\n",
    "import numpy as np\n",
    "import torch\n",
    "from scipy import linalg\n",
    "from scipy.misc import imread\n",
    "from torch.nn.functional import adaptive_avg_pool2d\n",
    "import torchvision\n",
    "\n",
    "try:\n",
    "    from tqdm import tqdm\n",
    "except ImportError:\n",
    "    # If not tqdm is not available, provide a mock version of it\n",
    "    def tqdm(x): return x\n",
    "\n",
    "from inception import InceptionV3"
   ]
  },
  {
   "cell_type": "code",
   "execution_count": 4,
   "metadata": {},
   "outputs": [
    {
     "name": "stdout",
     "output_type": "stream",
     "text": [
      "{0: 'abstract_painting', 1: 'cityscape', 2: 'genre_painting', 3: 'illustration', 4: 'landscape', 5: 'nude_painting', 6: 'portrait', 7: 'religious_painting', 8: 'sketch_and_study', 9: 'still_life'}\n"
     ]
    }
   ],
   "source": [
    "folders = {0: 'abstract_painting', \n",
    "           1: 'cityscape', \n",
    "           2: 'genre_painting', \n",
    "           3: 'illustration', \n",
    "           4: 'landscape', \n",
    "           5: 'nude_painting', \n",
    "           6: 'portrait',\n",
    "           7: 'religious_painting',\n",
    "           8: 'sketch_and_study',\n",
    "           9: 'still_life'}\n",
    "print(folders)"
   ]
  },
  {
   "cell_type": "code",
   "execution_count": 8,
   "metadata": {},
   "outputs": [],
   "source": [
    "import os\n",
    "import subprocess\n",
    "for i in range(len(folders)):\n",
    "    # python fid_score.py --gpu 0 /home/michaelcai/GANtor-Arts-Center/src/code/fid/Sorted_Images/landscape/ \n",
    "    # /home/michaelcai/GANtor-Arts-Center/src/code/fid/Generated_Images/landscape/\n",
    "    os.system('python fid_score.py --gpu 0 /home/michaelcai/GANtor-Arts-Center/src/code/fid/Sorted_Images/'\\\n",
    "              + folders[i] + \\\n",
    "              '/home/michaelcai/GANtor-Arts-Center/src/code/fid/Generated_Images/landscape/'\\\n",
    "              + folders[i])"
   ]
  },
  {
   "cell_type": "code",
   "execution_count": null,
   "metadata": {},
   "outputs": [],
   "source": []
  }
 ],
 "metadata": {
  "kernelspec": {
   "display_name": "Python 3",
   "language": "python",
   "name": "python3"
  },
  "language_info": {
   "codemirror_mode": {
    "name": "ipython",
    "version": 3
   },
   "file_extension": ".py",
   "mimetype": "text/x-python",
   "name": "python",
   "nbconvert_exporter": "python",
   "pygments_lexer": "ipython3",
   "version": "3.7.3"
  }
 },
 "nbformat": 4,
 "nbformat_minor": 2
}
