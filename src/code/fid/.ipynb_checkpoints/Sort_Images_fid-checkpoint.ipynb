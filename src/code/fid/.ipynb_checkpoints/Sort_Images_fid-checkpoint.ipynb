{
 "cells": [
  {
   "cell_type": "code",
   "execution_count": 2,
   "metadata": {},
   "outputs": [],
   "source": [
    "from __future__ import print_function\n",
    "from six.moves import range\n",
    "from PIL import Image\n",
    "\n",
    "import torch.backends.cudnn as cudnn\n",
    "import torch\n",
    "import torch.nn as nn\n",
    "from torch.autograd import Variable\n",
    "import torch.optim as optim\n",
    "import os\n",
    "import time\n",
    "\n",
    "import sys\n",
    "sys.path.append('/home/michaelcai/GANtor-Arts-Center/src/code/')\n",
    "\n",
    "import numpy as np\n",
    "import torchfile\n",
    "\n",
    "from miscc.config import cfg, cfg_from_file\n",
    "from miscc.utils import mkdir_p\n",
    "from miscc.utils import weights_init\n",
    "from miscc.utils import save_img_results, save_model\n",
    "from miscc.utils import KL_loss\n",
    "from miscc.utils import compute_discriminator_loss, compute_generator_loss\n",
    "\n",
    "from tensorboard import summary\n",
    "from tensorboardX import FileWriter\n",
    "\n",
    "import torchvision.utils as vutils"
   ]
  },
  {
   "cell_type": "code",
   "execution_count": 3,
   "metadata": {},
   "outputs": [],
   "source": [
    "import pandas as pd\n",
    "import csv"
   ]
  },
  {
   "cell_type": "code",
   "execution_count": 4,
   "metadata": {},
   "outputs": [],
   "source": [
    "csv_path = '/home/michaelcai/GANtor-Arts-Center/data/genre_train.csv'\n",
    "filenames, classes = [], []\n",
    "with open(csv_path) as csvfile:\n",
    "    readCSV = csv.reader(csvfile, delimiter=',')\n",
    "    for row in readCSV:\n",
    "        filenames.append(str(row[0])) \n",
    "        classes.append(int(row[1]))\n"
   ]
  },
  {
   "cell_type": "code",
   "execution_count": 5,
   "metadata": {},
   "outputs": [
    {
     "name": "stdout",
     "output_type": "stream",
     "text": [
      "{0: 'abstract_painting', 1: 'cityscape', 2: 'genre_painting', 3: 'illustration', 4: 'landscape', 5: 'nude_painting', 6: 'portrait', 7: 'religious_painting', 8: 'sketch_and_study', 9: 'still_life'}\n"
     ]
    }
   ],
   "source": [
    "folders = {0: 'abstract_painting', \n",
    "           1: 'cityscape', \n",
    "           2: 'genre_painting', \n",
    "           3: 'illustration', \n",
    "           4: 'landscape', \n",
    "           5: 'nude_painting', \n",
    "           6: 'portrait',\n",
    "           7: 'religious_painting',\n",
    "           8: 'sketch_and_study',\n",
    "           9: 'still_life'}\n",
    "print(folders)"
   ]
  },
  {
   "cell_type": "code",
   "execution_count": 6,
   "metadata": {},
   "outputs": [],
   "source": [
    "classnums = [0] * 10"
   ]
  },
  {
   "cell_type": "code",
   "execution_count": 10,
   "metadata": {},
   "outputs": [
    {
     "name": "stdout",
     "output_type": "stream",
     "text": [
      "/hieronymus-bosch_st-jacques-and-the-magician-hermogenes.jpg\n"
     ]
    }
   ],
   "source": [
    "import subprocess\n",
    "for i in range(len(filenames)):\n",
    "    img_path = '/home/michaelcai/GANtor-Arts-Center/data/wikiart/' + filenames[i]\n",
    "    subprocess.call(['cp', img_path, \"./test.jpg\"])\n",
    "    img_name = filenames[i][filenames[i].rfind('/'):]\n",
    "    save_path = '/home/michaelcai/GANtor-Arts-Center/src/code/fid/Sorted_Images/' + folders[classes[i]] + img_name\n",
    "    subprocess.call(['cp', img_path, save_path])\n",
    "    if i % 100 == 0:\n",
    "        print(\"finished iteration \" + str(i) + \"/\" + str(len(filenames)))\n",
    "        print(\"Saved \" + save_path)\n",
    "    classnums[classes[i]] += 1"
   ]
  },
  {
   "cell_type": "code",
   "execution_count": 11,
   "metadata": {},
   "outputs": [
    {
     "name": "stdout",
     "output_type": "stream",
     "text": [
      "[5153, 4764, 11217, 1958, 13780, 2001, 14675, 6783, 4092, 2900]\n"
     ]
    }
   ],
   "source": [
    "print(classnums)"
   ]
  },
  {
   "cell_type": "code",
   "execution_count": 12,
   "metadata": {},
   "outputs": [
    {
     "name": "stdout",
     "output_type": "stream",
     "text": [
      "67323\n"
     ]
    }
   ],
   "source": [
    "sum = 0\n",
    "for cls in classnums:\n",
    "    sum += cls\n",
    "print(sum)"
   ]
  },
  {
   "cell_type": "code",
   "execution_count": 20,
   "metadata": {},
   "outputs": [
    {
     "name": "stderr",
     "output_type": "stream",
     "text": [
      "IOPub data rate exceeded.\n",
      "The notebook server will temporarily stop sending output\n",
      "to the client in order to avoid crashing it.\n",
      "To change this limit, set the config variable\n",
      "`--NotebookApp.iopub_data_rate_limit`.\n",
      "\n",
      "Current values:\n",
      "NotebookApp.iopub_data_rate_limit=1000000.0 (bytes/sec)\n",
      "NotebookApp.rate_limit_window=3.0 (secs)\n",
      "\n"
     ]
    }
   ],
   "source": []
  },
  {
   "cell_type": "code",
   "execution_count": null,
   "metadata": {},
   "outputs": [],
   "source": []
  }
 ],
 "metadata": {
  "kernelspec": {
   "display_name": "Python 3",
   "language": "python",
   "name": "python3"
  },
  "language_info": {
   "codemirror_mode": {
    "name": "ipython",
    "version": 3
   },
   "file_extension": ".py",
   "mimetype": "text/x-python",
   "name": "python",
   "nbconvert_exporter": "python",
   "pygments_lexer": "ipython3",
   "version": "3.7.3"
  }
 },
 "nbformat": 4,
 "nbformat_minor": 2
}
