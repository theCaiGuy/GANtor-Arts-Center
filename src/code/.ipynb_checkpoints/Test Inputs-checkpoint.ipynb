{
 "cells": [
  {
   "cell_type": "code",
   "execution_count": 11,
   "metadata": {},
   "outputs": [],
   "source": [
    "from __future__ import print_function\n",
    "from six.moves import range\n",
    "from PIL import Image\n",
    "\n",
    "import torch.backends.cudnn as cudnn\n",
    "import torch\n",
    "import torch.nn as nn\n",
    "from torch.autograd import Variable\n",
    "import torch.optim as optim\n",
    "import os\n",
    "import time\n",
    "\n",
    "import numpy as np\n",
    "import torchfile\n",
    "\n",
    "from miscc.config import cfg\n",
    "from miscc.utils import mkdir_p\n",
    "from miscc.utils import weights_init\n",
    "from miscc.utils import save_img_results, save_model\n",
    "from miscc.utils import KL_loss\n",
    "from miscc.utils import compute_discriminator_loss, compute_generator_loss\n",
    "\n",
    "from tensorboard import summary\n",
    "from tensorboardX import FileWriter"
   ]
  },
  {
   "cell_type": "code",
   "execution_count": 13,
   "metadata": {},
   "outputs": [
    {
     "ename": "RuntimeError",
     "evalue": "Error(s) in loading state_dict for STAGE1_G:\n\tsize mismatch for fc.0.weight: copying a param with shape torch.Size([24576, 127]) from checkpoint, the shape in current model is torch.Size([16384, 127]).\n\tsize mismatch for fc.1.weight: copying a param with shape torch.Size([24576]) from checkpoint, the shape in current model is torch.Size([16384]).\n\tsize mismatch for fc.1.bias: copying a param with shape torch.Size([24576]) from checkpoint, the shape in current model is torch.Size([16384]).\n\tsize mismatch for fc.1.running_mean: copying a param with shape torch.Size([24576]) from checkpoint, the shape in current model is torch.Size([16384]).\n\tsize mismatch for fc.1.running_var: copying a param with shape torch.Size([24576]) from checkpoint, the shape in current model is torch.Size([16384]).\n\tsize mismatch for upsample1.1.weight: copying a param with shape torch.Size([768, 1536, 3, 3]) from checkpoint, the shape in current model is torch.Size([512, 1024, 3, 3]).\n\tsize mismatch for upsample1.2.weight: copying a param with shape torch.Size([768]) from checkpoint, the shape in current model is torch.Size([512]).\n\tsize mismatch for upsample1.2.bias: copying a param with shape torch.Size([768]) from checkpoint, the shape in current model is torch.Size([512]).\n\tsize mismatch for upsample1.2.running_mean: copying a param with shape torch.Size([768]) from checkpoint, the shape in current model is torch.Size([512]).\n\tsize mismatch for upsample1.2.running_var: copying a param with shape torch.Size([768]) from checkpoint, the shape in current model is torch.Size([512]).\n\tsize mismatch for upsample2.1.weight: copying a param with shape torch.Size([384, 768, 3, 3]) from checkpoint, the shape in current model is torch.Size([256, 512, 3, 3]).\n\tsize mismatch for upsample2.2.weight: copying a param with shape torch.Size([384]) from checkpoint, the shape in current model is torch.Size([256]).\n\tsize mismatch for upsample2.2.bias: copying a param with shape torch.Size([384]) from checkpoint, the shape in current model is torch.Size([256]).\n\tsize mismatch for upsample2.2.running_mean: copying a param with shape torch.Size([384]) from checkpoint, the shape in current model is torch.Size([256]).\n\tsize mismatch for upsample2.2.running_var: copying a param with shape torch.Size([384]) from checkpoint, the shape in current model is torch.Size([256]).\n\tsize mismatch for upsample3.1.weight: copying a param with shape torch.Size([192, 384, 3, 3]) from checkpoint, the shape in current model is torch.Size([128, 256, 3, 3]).\n\tsize mismatch for upsample3.2.weight: copying a param with shape torch.Size([192]) from checkpoint, the shape in current model is torch.Size([128]).\n\tsize mismatch for upsample3.2.bias: copying a param with shape torch.Size([192]) from checkpoint, the shape in current model is torch.Size([128]).\n\tsize mismatch for upsample3.2.running_mean: copying a param with shape torch.Size([192]) from checkpoint, the shape in current model is torch.Size([128]).\n\tsize mismatch for upsample3.2.running_var: copying a param with shape torch.Size([192]) from checkpoint, the shape in current model is torch.Size([128]).\n\tsize mismatch for upsample4.1.weight: copying a param with shape torch.Size([96, 192, 3, 3]) from checkpoint, the shape in current model is torch.Size([64, 128, 3, 3]).\n\tsize mismatch for upsample4.2.weight: copying a param with shape torch.Size([96]) from checkpoint, the shape in current model is torch.Size([64]).\n\tsize mismatch for upsample4.2.bias: copying a param with shape torch.Size([96]) from checkpoint, the shape in current model is torch.Size([64]).\n\tsize mismatch for upsample4.2.running_mean: copying a param with shape torch.Size([96]) from checkpoint, the shape in current model is torch.Size([64]).\n\tsize mismatch for upsample4.2.running_var: copying a param with shape torch.Size([96]) from checkpoint, the shape in current model is torch.Size([64]).\n\tsize mismatch for img.0.weight: copying a param with shape torch.Size([3, 96, 3, 3]) from checkpoint, the shape in current model is torch.Size([3, 64, 3, 3]).",
     "output_type": "error",
     "traceback": [
      "\u001b[0;31m---------------------------------------------------------------------------\u001b[0m",
      "\u001b[0;31mRuntimeError\u001b[0m                              Traceback (most recent call last)",
      "\u001b[0;32m<ipython-input-13-dba4f340843e>\u001b[0m in \u001b[0;36m<module>\u001b[0;34m\u001b[0m\n\u001b[1;32m      4\u001b[0m \u001b[0mstage_1_file\u001b[0m \u001b[0;34m=\u001b[0m \u001b[0;34m'../../results/wikiart_stageI_2019_05_14_23_03_43/Model/netG_epoch_60.pth'\u001b[0m\u001b[0;34m\u001b[0m\u001b[0;34m\u001b[0m\u001b[0m\n\u001b[1;32m      5\u001b[0m \u001b[0mstate_dict_1\u001b[0m \u001b[0;34m=\u001b[0m \u001b[0mtorch\u001b[0m\u001b[0;34m.\u001b[0m\u001b[0mload\u001b[0m\u001b[0;34m(\u001b[0m\u001b[0mstage_1_file\u001b[0m\u001b[0;34m,\u001b[0m \u001b[0mmap_location\u001b[0m\u001b[0;34m=\u001b[0m\u001b[0;32mlambda\u001b[0m \u001b[0mstorage\u001b[0m\u001b[0;34m,\u001b[0m \u001b[0mloc\u001b[0m\u001b[0;34m:\u001b[0m \u001b[0mstorage\u001b[0m\u001b[0;34m)\u001b[0m\u001b[0;34m\u001b[0m\u001b[0;34m\u001b[0m\u001b[0m\n\u001b[0;32m----> 6\u001b[0;31m \u001b[0mStage1_G\u001b[0m\u001b[0;34m.\u001b[0m\u001b[0mload_state_dict\u001b[0m\u001b[0;34m(\u001b[0m\u001b[0mstate_dict_1\u001b[0m\u001b[0;34m)\u001b[0m\u001b[0;34m\u001b[0m\u001b[0;34m\u001b[0m\u001b[0m\n\u001b[0m\u001b[1;32m      7\u001b[0m \u001b[0mnetG\u001b[0m \u001b[0;34m=\u001b[0m \u001b[0mSTAGE2_G\u001b[0m\u001b[0;34m(\u001b[0m\u001b[0mStage1_G\u001b[0m\u001b[0;34m)\u001b[0m\u001b[0;34m\u001b[0m\u001b[0;34m\u001b[0m\u001b[0m\n\u001b[1;32m      8\u001b[0m \u001b[0mnetG\u001b[0m\u001b[0;34m.\u001b[0m\u001b[0mapply\u001b[0m\u001b[0;34m(\u001b[0m\u001b[0mweights_init\u001b[0m\u001b[0;34m)\u001b[0m\u001b[0;34m\u001b[0m\u001b[0;34m\u001b[0m\u001b[0m\n",
      "\u001b[0;32m/opt/anaconda3/lib/python3.7/site-packages/torch/nn/modules/module.py\u001b[0m in \u001b[0;36mload_state_dict\u001b[0;34m(self, state_dict, strict)\u001b[0m\n\u001b[1;32m    775\u001b[0m         \u001b[0;32mif\u001b[0m \u001b[0mlen\u001b[0m\u001b[0;34m(\u001b[0m\u001b[0merror_msgs\u001b[0m\u001b[0;34m)\u001b[0m \u001b[0;34m>\u001b[0m \u001b[0;36m0\u001b[0m\u001b[0;34m:\u001b[0m\u001b[0;34m\u001b[0m\u001b[0;34m\u001b[0m\u001b[0m\n\u001b[1;32m    776\u001b[0m             raise RuntimeError('Error(s) in loading state_dict for {}:\\n\\t{}'.format(\n\u001b[0;32m--> 777\u001b[0;31m                                self.__class__.__name__, \"\\n\\t\".join(error_msgs)))\n\u001b[0m\u001b[1;32m    778\u001b[0m         \u001b[0;32mreturn\u001b[0m \u001b[0m_IncompatibleKeys\u001b[0m\u001b[0;34m(\u001b[0m\u001b[0mmissing_keys\u001b[0m\u001b[0;34m,\u001b[0m \u001b[0munexpected_keys\u001b[0m\u001b[0;34m)\u001b[0m\u001b[0;34m\u001b[0m\u001b[0;34m\u001b[0m\u001b[0m\n\u001b[1;32m    779\u001b[0m \u001b[0;34m\u001b[0m\u001b[0m\n",
      "\u001b[0;31mRuntimeError\u001b[0m: Error(s) in loading state_dict for STAGE1_G:\n\tsize mismatch for fc.0.weight: copying a param with shape torch.Size([24576, 127]) from checkpoint, the shape in current model is torch.Size([16384, 127]).\n\tsize mismatch for fc.1.weight: copying a param with shape torch.Size([24576]) from checkpoint, the shape in current model is torch.Size([16384]).\n\tsize mismatch for fc.1.bias: copying a param with shape torch.Size([24576]) from checkpoint, the shape in current model is torch.Size([16384]).\n\tsize mismatch for fc.1.running_mean: copying a param with shape torch.Size([24576]) from checkpoint, the shape in current model is torch.Size([16384]).\n\tsize mismatch for fc.1.running_var: copying a param with shape torch.Size([24576]) from checkpoint, the shape in current model is torch.Size([16384]).\n\tsize mismatch for upsample1.1.weight: copying a param with shape torch.Size([768, 1536, 3, 3]) from checkpoint, the shape in current model is torch.Size([512, 1024, 3, 3]).\n\tsize mismatch for upsample1.2.weight: copying a param with shape torch.Size([768]) from checkpoint, the shape in current model is torch.Size([512]).\n\tsize mismatch for upsample1.2.bias: copying a param with shape torch.Size([768]) from checkpoint, the shape in current model is torch.Size([512]).\n\tsize mismatch for upsample1.2.running_mean: copying a param with shape torch.Size([768]) from checkpoint, the shape in current model is torch.Size([512]).\n\tsize mismatch for upsample1.2.running_var: copying a param with shape torch.Size([768]) from checkpoint, the shape in current model is torch.Size([512]).\n\tsize mismatch for upsample2.1.weight: copying a param with shape torch.Size([384, 768, 3, 3]) from checkpoint, the shape in current model is torch.Size([256, 512, 3, 3]).\n\tsize mismatch for upsample2.2.weight: copying a param with shape torch.Size([384]) from checkpoint, the shape in current model is torch.Size([256]).\n\tsize mismatch for upsample2.2.bias: copying a param with shape torch.Size([384]) from checkpoint, the shape in current model is torch.Size([256]).\n\tsize mismatch for upsample2.2.running_mean: copying a param with shape torch.Size([384]) from checkpoint, the shape in current model is torch.Size([256]).\n\tsize mismatch for upsample2.2.running_var: copying a param with shape torch.Size([384]) from checkpoint, the shape in current model is torch.Size([256]).\n\tsize mismatch for upsample3.1.weight: copying a param with shape torch.Size([192, 384, 3, 3]) from checkpoint, the shape in current model is torch.Size([128, 256, 3, 3]).\n\tsize mismatch for upsample3.2.weight: copying a param with shape torch.Size([192]) from checkpoint, the shape in current model is torch.Size([128]).\n\tsize mismatch for upsample3.2.bias: copying a param with shape torch.Size([192]) from checkpoint, the shape in current model is torch.Size([128]).\n\tsize mismatch for upsample3.2.running_mean: copying a param with shape torch.Size([192]) from checkpoint, the shape in current model is torch.Size([128]).\n\tsize mismatch for upsample3.2.running_var: copying a param with shape torch.Size([192]) from checkpoint, the shape in current model is torch.Size([128]).\n\tsize mismatch for upsample4.1.weight: copying a param with shape torch.Size([96, 192, 3, 3]) from checkpoint, the shape in current model is torch.Size([64, 128, 3, 3]).\n\tsize mismatch for upsample4.2.weight: copying a param with shape torch.Size([96]) from checkpoint, the shape in current model is torch.Size([64]).\n\tsize mismatch for upsample4.2.bias: copying a param with shape torch.Size([96]) from checkpoint, the shape in current model is torch.Size([64]).\n\tsize mismatch for upsample4.2.running_mean: copying a param with shape torch.Size([96]) from checkpoint, the shape in current model is torch.Size([64]).\n\tsize mismatch for upsample4.2.running_var: copying a param with shape torch.Size([96]) from checkpoint, the shape in current model is torch.Size([64]).\n\tsize mismatch for img.0.weight: copying a param with shape torch.Size([3, 96, 3, 3]) from checkpoint, the shape in current model is torch.Size([3, 64, 3, 3])."
     ]
    }
   ],
   "source": [
    "from model import STAGE1_G, STAGE2_G, STAGE2_D\n",
    "\n",
    "Stage1_G = STAGE1_G()\n",
    "stage_1_file = '../../results/wikiart_stageI_2019_05_14_23_03_43/Model/netG_epoch_60.pth'\n",
    "state_dict_1 = torch.load(stage_1_file, map_location=lambda storage, loc: storage)\n",
    "Stage1_G.load_state_dict(state_dict_1)\n",
    "\n",
    "netG = STAGE2_G(Stage1_G)\n",
    "netG.apply(weights_init)\n",
    "print(netG)\n",
    "\n",
    "stage_1_file = '../../results/wikiart_stageI_2019_05_14_23_03_43/Model/netG_epoch_60.pth'\n",
    "stage_2_file = '../../results/wikiart_stageII_2019_05_15_03_54_54/Model/netG_epoch_45.pth'\n",
    "\n",
    "state_dict = torch.load(stage_2_file, map_location=lambda storage, loc: storage)\n",
    "netG.load_state_dict(state_dict)\n",
    "print('Load from: ', stage_2_file)\n",
    "\n",
    "# state_dict = \\\n",
    "#     torch.load(stage_1_file,\n",
    "#                map_location=lambda storage, loc: storage)\n",
    "# netG.STAGE1_G.load_state_dict(state_dict)\n",
    "# print('Load from: ', stage_1_file)\n",
    "\n",
    "if cfg.CUDA:\n",
    "    netG.cuda()"
   ]
  },
  {
   "cell_type": "code",
   "execution_count": null,
   "metadata": {},
   "outputs": [],
   "source": []
  }
 ],
 "metadata": {
  "kernelspec": {
   "display_name": "Python 3",
   "language": "python",
   "name": "python3"
  },
  "language_info": {
   "codemirror_mode": {
    "name": "ipython",
    "version": 3
   },
   "file_extension": ".py",
   "mimetype": "text/x-python",
   "name": "python",
   "nbconvert_exporter": "python",
   "pygments_lexer": "ipython3",
   "version": "3.7.3"
  }
 },
 "nbformat": 4,
 "nbformat_minor": 2
}
